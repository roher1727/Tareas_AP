{
  "nbformat": 4,
  "nbformat_minor": 0,
  "metadata": {
    "colab": {
      "name": "Tarea2-Ejercicio1.ipynb",
      "provenance": []
    },
    "kernelspec": {
      "name": "python3",
      "display_name": "Python 3"
    },
    "language_info": {
      "name": "python"
    }
  },
  "cells": [
    {
      "cell_type": "markdown",
      "metadata": {
        "id": "kCwmKA3qfxRU"
      },
      "source": [
        "## Tarea 2: Redes Convolucionales\n",
        "\n",
        "### Alejandro Hernández Rodríguez\n",
        "\n",
        "#### Ejercicio 1\n",
        "\n",
        "Diseña y entrena una red convolucional para el conjunto de datos CIFAR10. Explora diferentes\n",
        "diseños buscando mejorar tus resultados en el ejercicio 4 de la tarea 1. Discute tus resultados. "
      ]
    },
    {
      "cell_type": "code",
      "metadata": {
        "id": "GC40Zmt7far4"
      },
      "source": [
        "import torch\n",
        "import numpy as np\n",
        "import matplotlib.pyplot as plt\n",
        "import pandas as pd\n",
        "import os\n",
        "import torch.nn.functional as F\n",
        "\n",
        "import torch\n",
        "import torch.nn as nn\n",
        "import torch.optim as optim\n",
        "import torchvision.transforms as T\n",
        "from itertools import islice as take\n",
        "from tqdm import trange\n",
        "import torchvision\n",
        "import torchvision.transforms as transforms\n",
        "from torch.utils.data import DataLoader"
      ],
      "execution_count": 16,
      "outputs": []
    },
    {
      "cell_type": "code",
      "metadata": {
        "colab": {
          "base_uri": "https://localhost:8080/"
        },
        "id": "kuR7VjIQfojR",
        "outputId": "6d3d4713-2977-457b-fdbc-4d5914cea016"
      },
      "source": [
        "transform = transforms.Compose(\n",
        "    [transforms.ToTensor(),\n",
        "     transforms.Normalize((0.5, 0.5, 0.5), (0.5, 0.5, 0.5))])\n",
        "\n",
        "batch_size = 4\n",
        "\n",
        "trainset = torchvision.datasets.CIFAR10(root='./data', train=True,\n",
        "                                        download=True, transform=transform)\n",
        "trainloader = torch.utils.data.DataLoader(trainset, batch_size=batch_size,\n",
        "                                          shuffle=True, num_workers=2)\n",
        "\n",
        "testset = torchvision.datasets.CIFAR10(root='./data', train=False,\n",
        "                                       download=True, transform=transform)\n",
        "testloader = torch.utils.data.DataLoader(testset, batch_size=batch_size,\n",
        "                                         shuffle=False, num_workers=2)\n",
        "\n",
        "classes = ('plane', 'car', 'bird', 'cat',\n",
        "           'deer', 'dog', 'frog', 'horse', 'ship', 'truck')\n"
      ],
      "execution_count": 17,
      "outputs": [
        {
          "output_type": "stream",
          "text": [
            "Files already downloaded and verified\n",
            "Files already downloaded and verified\n"
          ],
          "name": "stdout"
        }
      ]
    },
    {
      "cell_type": "code",
      "metadata": {
        "id": "O4wM0lF7gCNx"
      },
      "source": [
        "class CNN(nn.Module):\n",
        "    \n",
        "    # inicializador\n",
        "    def __init__(self):\n",
        "\n",
        "        # inicilización del objeto padre, obligatorio\n",
        "        super(CNN, self).__init__()\n",
        "        self.num_feats = 3 * 16 * 16\n",
        "\n",
        "        # definición de bloques conv\n",
        "        # [M, 3, 32, 32] => [M, 4, 14, 14]\n",
        "        self.cnn = nn.Sequential(\n",
        "\n",
        "            # bloque conv1\n",
        "            # [M, 1, 28, 28] => [M, 4, 28, 28]\n",
        "            nn.Conv2d(in_channels=3, out_channels=3, \n",
        "                      kernel_size=3, padding=1),\n",
        "            # [M, 4, 28, 28]\n",
        "            nn.ReLU(),\n",
        "            # [M, 4, 28, 28] => [M, 4, 14, 14]\n",
        "            nn.MaxPool2d(kernel_size=2, stride=2),\n",
        "\n",
        "        )       \n",
        "        \n",
        "        # [M, 4, 14, 14] => [M, 4x14x14]\n",
        "        self.flatten = nn.Flatten()\n",
        "\n",
        "        # [M, 4x14x14] => [M, 1]\n",
        "        self.cls = nn.Linear(self.num_feats, 10)\n",
        "    \n",
        "    # metodo para inferencia\n",
        "    def forward(self, x):\n",
        "        # [M, 1, 28, 28] => [M, 4, 14, 14]\n",
        "        x = self.cnn(x)\n",
        "        # [M, 4, 14, 14] => [M, 4x14x14]\n",
        "        x = self.flatten(x)\n",
        "        # [M, 4x14x14] => [M, 10]\n",
        "        x = self.cls(x)\n",
        "        return x"
      ],
      "execution_count": 18,
      "outputs": []
    },
    {
      "cell_type": "code",
      "metadata": {
        "id": "iuGS0-UlD9cK"
      },
      "source": [
        "class CNN(nn.Module):\n",
        "    \n",
        "    # inicializador\n",
        "    def __init__(self):\n",
        "\n",
        "        # inicilización del objeto padre, obligatorio\n",
        "        super(CNN, self).__init__()\n",
        "        self.num_feats = 3 * 16 * 16\n",
        "\n",
        "        # definición de bloques conv\n",
        "        # [M, 3, 32, 32] => [M, 4, 14, 14]\n",
        "        self.cnn = nn.Sequential(\n",
        "\n",
        "            # bloque conv1\n",
        "            # [M, 1, 28, 28] => [M, 4, 28, 28]\n",
        "            nn.Conv2d(in_channels=3, out_channels=3, \n",
        "                      kernel_size=3, padding=1),\n",
        "            # [M, 4, 28, 28]\n",
        "            nn.ReLU(),\n",
        "            # [M, 4, 28, 28] => [M, 4, 14, 14]\n",
        "            nn.MaxPool2d(kernel_size=2, stride=2),\n",
        "\n",
        "        )       \n",
        "        \n",
        "        # [M, 4, 14, 14] => [M, 4x14x14]\n",
        "        self.flatten = nn.Flatten()\n",
        "\n",
        "        # [M, 4x14x14] => [M, 1]\n",
        "        self.cls = nn.Linear(self.num_feats, 10)\n",
        "    \n",
        "    # metodo para inferencia\n",
        "    def forward(self, x):\n",
        "        # [M, 1, 28, 28] => [M, 4, 14, 14]\n",
        "        x = self.cnn(x)\n",
        "        # [M, 4, 14, 14] => [M, 4x14x14]\n",
        "        x = self.flatten(x)\n",
        "        # [M, 4x14x14] => [M, 10]\n",
        "        x = self.cls(x)\n",
        "        return x"
      ],
      "execution_count": null,
      "outputs": []
    },
    {
      "cell_type": "code",
      "metadata": {
        "id": "r5UCWXuPD-_I"
      },
      "source": [
        "class CNN2(nn.Module):\n",
        "    \n",
        "    # inicializador\n",
        "    def __init__(self):\n",
        "\n",
        "        # inicilización del objeto padre, obligatorio\n",
        "        super(CNN2, self).__init__()\n",
        "        self.num_feats = 3 * 16 * 16\n",
        "\n",
        "        # definición de bloques conv\n",
        "        # [M, 3, 32, 32] => [M, 4, 14, 14]\n",
        "        self.cnn = nn.Sequential(\n",
        "\n",
        "            # bloque conv1\n",
        "            # [M, 1, 28, 28] => [M, 4, 28, 28]\n",
        "            nn.Conv2d(in_channels=3, out_channels=3, \n",
        "                      kernel_size=3, padding=1),\n",
        "            # [M, 4, 28, 28]\n",
        "            nn.ReLU(),\n",
        "            nn.Conv2d(in_channels=3, out_channels=3, \n",
        "                      kernel_size=3, padding=1),\n",
        "            # [M, 4, 28, 28]\n",
        "            nn.ReLU(),\n",
        "            # [M, 4, 28, 28] => [M, 4, 14, 14]\n",
        "            nn.MaxPool2d(kernel_size=2, stride=2),\n",
        "\n",
        "        )       \n",
        "        \n",
        "        # [M, 4, 14, 14] => [M, 4x14x14]\n",
        "        self.flatten = nn.Flatten()\n",
        "\n",
        "        # [M, 4x14x14] => [M, 1]\n",
        "        self.cls = nn.Linear(self.num_feats, 10)\n",
        "    \n",
        "    # metodo para inferencia\n",
        "    def forward(self, x):\n",
        "        # [M, 1, 28, 28] => [M, 4, 14, 14]\n",
        "        x = self.cnn(x)\n",
        "        # [M, 4, 14, 14] => [M, 4x14x14]\n",
        "        x = self.flatten(x)\n",
        "        # [M, 4x14x14] => [M, 10]\n",
        "        x = self.cls(x)\n",
        "        return x"
      ],
      "execution_count": 25,
      "outputs": []
    },
    {
      "cell_type": "code",
      "metadata": {
        "colab": {
          "base_uri": "https://localhost:8080/"
        },
        "id": "xlLezbomlS6a",
        "outputId": "2828dcf0-7c48-4cff-e52d-484a08cc40c4"
      },
      "source": [
        "model = CNN()\n",
        "model2 = CNN2()\n",
        "print(model)"
      ],
      "execution_count": 26,
      "outputs": [
        {
          "output_type": "stream",
          "text": [
            "CNN(\n",
            "  (cnn): Sequential(\n",
            "    (0): Conv2d(3, 3, kernel_size=(3, 3), stride=(1, 1), padding=(1, 1))\n",
            "    (1): ReLU()\n",
            "    (2): MaxPool2d(kernel_size=2, stride=2, padding=0, dilation=1, ceil_mode=False)\n",
            "  )\n",
            "  (flatten): Flatten(start_dim=1, end_dim=-1)\n",
            "  (cls): Linear(in_features=768, out_features=10, bias=True)\n",
            ")\n"
          ],
          "name": "stdout"
        }
      ]
    },
    {
      "cell_type": "code",
      "metadata": {
        "id": "Uurv-DFMlX8P"
      },
      "source": [
        "def train_epoch(dl, model, opt):\n",
        "\n",
        "    # por cada lote\n",
        "    for x, y_true in dl:\n",
        "        \n",
        "        # computamos logits\n",
        "        y_lgts = model(x)\n",
        "        \n",
        "        # computamos la pérdida\n",
        "        loss = F.cross_entropy(y_lgts, y_true)\n",
        "        \n",
        "        # vaciamos los gradientes\n",
        "        opt.zero_grad()\n",
        "        \n",
        "        # retropropagamos\n",
        "        loss.backward()\n",
        "        \n",
        "        # actualizamos parámetros\n",
        "        opt.step()\n",
        "\n",
        "\n",
        "def eval_epoch(dl, model, num_batches=None):\n",
        "\n",
        "    # evitamos que se registren las operaciones \n",
        "    # en la gráfica de cómputo\n",
        "    with torch.no_grad():\n",
        "\n",
        "        # historiales\n",
        "        losses, accs = [], []\n",
        "\n",
        "        # validación de la época con num_batches\n",
        "        # si num_batches==None, se usan todos los lotes\n",
        "        for x, y_true in take(dl, num_batches):\n",
        "\n",
        "            # computamos los logits\n",
        "            y_lgts = model(x)\n",
        "\n",
        "            # computamos los puntajes\n",
        "            y_prob = F.softmax(y_lgts, 1)\n",
        "\n",
        "            # computamos la clases\n",
        "            y_pred = torch.argmax(y_prob, 1)\n",
        "\n",
        "            # computamos la pérdida\n",
        "            loss = F.cross_entropy(y_lgts, y_true)\n",
        "\n",
        "            # computamos la exactitud\n",
        "            acc = (y_true == y_pred).type(torch.float32).mean()\n",
        "\n",
        "            # guardamos históricos\n",
        "            losses.append(loss.item())\n",
        "            accs.append(acc.item())\n",
        "\n",
        "        # promediamos\n",
        "        loss = np.mean(losses) * 100\n",
        "        acc = np.mean(accs) * 100\n",
        "\n",
        "        return loss, acc\n",
        "        \n",
        "        \n",
        "def train(model, trn_dl, tst_dl, lr=1e-3, epochs=20,\n",
        "          trn_batches=None, tst_batches=None):\n",
        "\n",
        "    # historiales\n",
        "    loss_hist, acc_hist = [], []\n",
        "    \n",
        "    # optimizador\n",
        "    opt = optim.SGD(model.parameters(), lr=lr)\n",
        "\n",
        "    # ciclo de entrenamiento\n",
        "    for epoch in trange(epochs):\n",
        "\n",
        "        # entrenamos la época\n",
        "        train_epoch(trn_dl, model, opt)\n",
        "\n",
        "        # evaluamos la época en entrenamiento\n",
        "        trn_loss, trn_acc = eval_epoch(trn_dl, model, trn_batches)\n",
        "        # evaluamos la época en prueba\n",
        "        tst_loss, tst_acc = eval_epoch(tst_dl, model, tst_batches)\n",
        "\n",
        "        # guardamos historial\n",
        "        loss_hist.append([trn_loss, tst_loss])\n",
        "        acc_hist.append([trn_acc, tst_acc])\n",
        "\n",
        "        # imprimimos progreso\n",
        "        print(f'E{epoch:02} '\n",
        "              f'loss=[{trn_loss:6.2f},{tst_loss:6.2f}] '\n",
        "              f'acc=[{trn_acc:5.2f},{tst_acc:5.2f}]')\n",
        "\n",
        "    return loss_hist, acc_hist"
      ],
      "execution_count": 27,
      "outputs": []
    },
    {
      "cell_type": "code",
      "metadata": {
        "id": "b95eqm7EEV0m"
      },
      "source": [
        "def plot_hist(loss_hist):\n",
        "    train_loss, test_loss = zip(*loss_hist)\n",
        "\n",
        "    plt.plot(train_loss)\n",
        "    plt.plot(test_loss)\n",
        "    plt.legend(['Train Loss','Test Loss'])\n",
        "    plt.grid()\n",
        "    plt.show()"
      ],
      "execution_count": 33,
      "outputs": []
    },
    {
      "cell_type": "code",
      "metadata": {
        "colab": {
          "base_uri": "https://localhost:8080/"
        },
        "id": "-nI_x88Elayx",
        "outputId": "232c50a8-be3e-46f4-a5c3-62fab1f72a0b"
      },
      "source": [
        "loss_hist, acc_hist = train(model2, trainloader, testloader, lr=0.001)\n"
      ],
      "execution_count": 37,
      "outputs": [
        {
          "output_type": "stream",
          "text": [
            "  5%|▌         | 1/20 [02:12<41:55, 132.40s/it]"
          ],
          "name": "stderr"
        },
        {
          "output_type": "stream",
          "text": [
            "E00 loss=[180.48,181.46] acc=[36.50,36.07]\n"
          ],
          "name": "stdout"
        },
        {
          "output_type": "stream",
          "text": [
            "\r 10%|█         | 2/20 [04:22<39:28, 131.58s/it]"
          ],
          "name": "stderr"
        },
        {
          "output_type": "stream",
          "text": [
            "E01 loss=[155.43,157.60] acc=[45.66,44.61]\n"
          ],
          "name": "stdout"
        },
        {
          "output_type": "stream",
          "text": [
            "\r 15%|█▌        | 3/20 [06:31<37:06, 130.98s/it]"
          ],
          "name": "stderr"
        },
        {
          "output_type": "stream",
          "text": [
            "E02 loss=[148.54,151.59] acc=[48.16,46.45]\n"
          ],
          "name": "stdout"
        },
        {
          "output_type": "stream",
          "text": [
            "\r 20%|██        | 4/20 [08:42<34:54, 130.88s/it]"
          ],
          "name": "stderr"
        },
        {
          "output_type": "stream",
          "text": [
            "E03 loss=[147.96,151.61] acc=[48.36,46.97]\n"
          ],
          "name": "stdout"
        },
        {
          "output_type": "stream",
          "text": [
            "\r 25%|██▌       | 5/20 [10:52<32:38, 130.55s/it]"
          ],
          "name": "stderr"
        },
        {
          "output_type": "stream",
          "text": [
            "E04 loss=[141.79,146.28] acc=[50.76,48.67]\n"
          ],
          "name": "stdout"
        },
        {
          "output_type": "stream",
          "text": [
            "\r 30%|███       | 6/20 [13:05<30:40, 131.50s/it]"
          ],
          "name": "stderr"
        },
        {
          "output_type": "stream",
          "text": [
            "E05 loss=[140.58,145.53] acc=[51.00,48.48]\n"
          ],
          "name": "stdout"
        },
        {
          "output_type": "stream",
          "text": [
            "\r 35%|███▌      | 7/20 [15:17<28:28, 131.45s/it]"
          ],
          "name": "stderr"
        },
        {
          "output_type": "stream",
          "text": [
            "E06 loss=[140.57,145.94] acc=[50.72,48.27]\n"
          ],
          "name": "stdout"
        },
        {
          "output_type": "stream",
          "text": [
            "\r 40%|████      | 8/20 [17:26<26:08, 130.70s/it]"
          ],
          "name": "stderr"
        },
        {
          "output_type": "stream",
          "text": [
            "E07 loss=[138.55,143.91] acc=[51.95,49.34]\n"
          ],
          "name": "stdout"
        },
        {
          "output_type": "stream",
          "text": [
            "\r 45%|████▌     | 9/20 [19:35<23:54, 130.43s/it]"
          ],
          "name": "stderr"
        },
        {
          "output_type": "stream",
          "text": [
            "E08 loss=[136.93,142.51] acc=[52.27,50.01]\n"
          ],
          "name": "stdout"
        },
        {
          "output_type": "stream",
          "text": [
            "\r 50%|█████     | 10/20 [21:46<21:43, 130.38s/it]"
          ],
          "name": "stderr"
        },
        {
          "output_type": "stream",
          "text": [
            "E09 loss=[136.29,142.05] acc=[52.51,49.32]\n"
          ],
          "name": "stdout"
        },
        {
          "output_type": "stream",
          "text": [
            "\r 55%|█████▌    | 11/20 [23:57<19:34, 130.53s/it]"
          ],
          "name": "stderr"
        },
        {
          "output_type": "stream",
          "text": [
            "E10 loss=[134.34,140.63] acc=[53.23,50.07]\n"
          ],
          "name": "stdout"
        },
        {
          "output_type": "stream",
          "text": [
            "\r 60%|██████    | 12/20 [26:07<17:23, 130.38s/it]"
          ],
          "name": "stderr"
        },
        {
          "output_type": "stream",
          "text": [
            "E11 loss=[135.10,141.84] acc=[53.50,50.64]\n"
          ],
          "name": "stdout"
        },
        {
          "output_type": "stream",
          "text": [
            "\r 65%|██████▌   | 13/20 [28:18<15:14, 130.64s/it]"
          ],
          "name": "stderr"
        },
        {
          "output_type": "stream",
          "text": [
            "E12 loss=[133.07,140.11] acc=[54.19,50.82]\n"
          ],
          "name": "stdout"
        },
        {
          "output_type": "stream",
          "text": [
            "\r 70%|███████   | 14/20 [30:30<13:06, 131.09s/it]"
          ],
          "name": "stderr"
        },
        {
          "output_type": "stream",
          "text": [
            "E13 loss=[131.00,138.00] acc=[54.72,51.59]\n"
          ],
          "name": "stdout"
        },
        {
          "output_type": "stream",
          "text": [
            "\r 75%|███████▌  | 15/20 [32:41<10:55, 131.10s/it]"
          ],
          "name": "stderr"
        },
        {
          "output_type": "stream",
          "text": [
            "E14 loss=[134.01,140.75] acc=[53.50,50.94]\n"
          ],
          "name": "stdout"
        },
        {
          "output_type": "stream",
          "text": [
            "\r 80%|████████  | 16/20 [34:52<08:44, 131.08s/it]"
          ],
          "name": "stderr"
        },
        {
          "output_type": "stream",
          "text": [
            "E15 loss=[129.13,136.99] acc=[55.20,51.56]\n"
          ],
          "name": "stdout"
        },
        {
          "output_type": "stream",
          "text": [
            "\r 85%|████████▌ | 17/20 [37:01<06:31, 130.54s/it]"
          ],
          "name": "stderr"
        },
        {
          "output_type": "stream",
          "text": [
            "E16 loss=[129.14,137.05] acc=[55.51,51.84]\n"
          ],
          "name": "stdout"
        },
        {
          "output_type": "stream",
          "text": [
            "\r 90%|█████████ | 18/20 [39:12<04:21, 130.66s/it]"
          ],
          "name": "stderr"
        },
        {
          "output_type": "stream",
          "text": [
            "E17 loss=[128.85,137.02] acc=[55.01,51.32]\n"
          ],
          "name": "stdout"
        },
        {
          "output_type": "stream",
          "text": [
            "\r 95%|█████████▌| 19/20 [41:23<02:10, 130.79s/it]"
          ],
          "name": "stderr"
        },
        {
          "output_type": "stream",
          "text": [
            "E18 loss=[129.19,137.66] acc=[55.00,51.34]\n"
          ],
          "name": "stdout"
        },
        {
          "output_type": "stream",
          "text": [
            "100%|██████████| 20/20 [43:33<00:00, 130.69s/it]"
          ],
          "name": "stderr"
        },
        {
          "output_type": "stream",
          "text": [
            "E19 loss=[127.04,135.69] acc=[55.73,52.37]\n"
          ],
          "name": "stdout"
        },
        {
          "output_type": "stream",
          "text": [
            "\n"
          ],
          "name": "stderr"
        }
      ]
    },
    {
      "cell_type": "code",
      "metadata": {
        "id": "iK2gtmvSpQYp",
        "colab": {
          "base_uri": "https://localhost:8080/",
          "height": 265
        },
        "outputId": "afb076b2-5e6a-493d-c7c6-91e02359c61e"
      },
      "source": [
        "train_loss, test_loss = zip(*loss_hist)\n",
        "\n",
        "plt.plot(train_loss)\n",
        "plt.plot(test_loss)\n",
        "plt.legend(['Train Loss','Test Loss'])\n",
        "plt.grid()\n",
        "plt.show()"
      ],
      "execution_count": 38,
      "outputs": [
        {
          "output_type": "display_data",
          "data": {
            "image/png": "[encoded data removed]",
            "text/plain": [
              "<Figure size 432x288 with 1 Axes>"
            ]
          },
          "metadata": {
            "tags": [],
            "needs_background": "light"
          }
        }
      ]
    },
    {
      "cell_type": "code",
      "metadata": {
        "colab": {
          "base_uri": "https://localhost:8080/"
        },
        "id": "CH9rwNHZ_Kak",
        "outputId": "e6d88fb7-fd36-4f1f-cb6d-a7ece0a441d6"
      },
      "source": [
        "loss_hist, acc_hist = train(model, trainloader, testloader, lr=0.001)\n"
      ],
      "execution_count": 39,
      "outputs": [
        {
          "output_type": "stream",
          "text": [
            "  5%|▌         | 1/20 [01:54<36:19, 114.69s/it]"
          ],
          "name": "stderr"
        },
        {
          "output_type": "stream",
          "text": [
            "E00 loss=[131.33,139.66] acc=[53.81,50.41]\n"
          ],
          "name": "stdout"
        },
        {
          "output_type": "stream",
          "text": [
            "\r 10%|█         | 2/20 [03:46<34:08, 113.83s/it]"
          ],
          "name": "stderr"
        },
        {
          "output_type": "stream",
          "text": [
            "E01 loss=[129.44,137.99] acc=[54.59,50.87]\n"
          ],
          "name": "stdout"
        },
        {
          "output_type": "stream",
          "text": [
            "\r 15%|█▌        | 3/20 [05:37<32:00, 112.96s/it]"
          ],
          "name": "stderr"
        },
        {
          "output_type": "stream",
          "text": [
            "E02 loss=[129.77,138.37] acc=[54.58,51.01]\n"
          ],
          "name": "stdout"
        },
        {
          "output_type": "stream",
          "text": [
            "\r 20%|██        | 4/20 [07:31<30:14, 113.40s/it]"
          ],
          "name": "stderr"
        },
        {
          "output_type": "stream",
          "text": [
            "E03 loss=[129.47,138.05] acc=[54.31,50.87]\n"
          ],
          "name": "stdout"
        },
        {
          "output_type": "stream",
          "text": [
            "\r 25%|██▌       | 5/20 [09:25<28:23, 113.56s/it]"
          ],
          "name": "stderr"
        },
        {
          "output_type": "stream",
          "text": [
            "E04 loss=[128.89,137.80] acc=[54.63,51.00]\n"
          ],
          "name": "stdout"
        },
        {
          "output_type": "stream",
          "text": [
            "\r 30%|███       | 6/20 [11:21<26:37, 114.09s/it]"
          ],
          "name": "stderr"
        },
        {
          "output_type": "stream",
          "text": [
            "E05 loss=[130.17,138.99] acc=[54.07,50.56]\n"
          ],
          "name": "stdout"
        },
        {
          "output_type": "stream",
          "text": [
            "\r 35%|███▌      | 7/20 [13:18<24:54, 114.96s/it]"
          ],
          "name": "stderr"
        },
        {
          "output_type": "stream",
          "text": [
            "E06 loss=[129.33,138.13] acc=[54.57,50.96]\n"
          ],
          "name": "stdout"
        },
        {
          "output_type": "stream",
          "text": [
            "\r 40%|████      | 8/20 [15:12<22:57, 114.77s/it]"
          ],
          "name": "stderr"
        },
        {
          "output_type": "stream",
          "text": [
            "E07 loss=[129.45,138.44] acc=[54.44,51.08]\n"
          ],
          "name": "stdout"
        },
        {
          "output_type": "stream",
          "text": [
            "\r 45%|████▌     | 9/20 [17:05<20:58, 114.40s/it]"
          ],
          "name": "stderr"
        },
        {
          "output_type": "stream",
          "text": [
            "E08 loss=[128.87,137.92] acc=[54.75,50.93]\n"
          ],
          "name": "stdout"
        },
        {
          "output_type": "stream",
          "text": [
            "\r 50%|█████     | 10/20 [19:00<19:03, 114.34s/it]"
          ],
          "name": "stderr"
        },
        {
          "output_type": "stream",
          "text": [
            "E09 loss=[128.72,137.74] acc=[54.81,51.37]\n"
          ],
          "name": "stdout"
        },
        {
          "output_type": "stream",
          "text": [
            "\r 55%|█████▌    | 11/20 [20:54<17:07, 114.19s/it]"
          ],
          "name": "stderr"
        },
        {
          "output_type": "stream",
          "text": [
            "E10 loss=[130.20,139.31] acc=[54.45,50.78]\n"
          ],
          "name": "stdout"
        },
        {
          "output_type": "stream",
          "text": [
            "\r 60%|██████    | 12/20 [22:48<15:14, 114.33s/it]"
          ],
          "name": "stderr"
        },
        {
          "output_type": "stream",
          "text": [
            "E11 loss=[130.93,139.97] acc=[53.82,50.01]\n"
          ],
          "name": "stdout"
        },
        {
          "output_type": "stream",
          "text": [
            "\r 65%|██████▌   | 13/20 [24:42<13:19, 114.25s/it]"
          ],
          "name": "stderr"
        },
        {
          "output_type": "stream",
          "text": [
            "E12 loss=[129.49,138.56] acc=[54.48,51.14]\n"
          ],
          "name": "stdout"
        },
        {
          "output_type": "stream",
          "text": [
            "\r 70%|███████   | 14/20 [26:36<11:24, 114.08s/it]"
          ],
          "name": "stderr"
        },
        {
          "output_type": "stream",
          "text": [
            "E13 loss=[128.48,137.92] acc=[55.00,51.07]\n"
          ],
          "name": "stdout"
        },
        {
          "output_type": "stream",
          "text": [
            "\r 75%|███████▌  | 15/20 [28:29<09:29, 113.82s/it]"
          ],
          "name": "stderr"
        },
        {
          "output_type": "stream",
          "text": [
            "E14 loss=[128.71,137.99] acc=[54.79,51.04]\n"
          ],
          "name": "stdout"
        },
        {
          "output_type": "stream",
          "text": [
            "\r 80%|████████  | 16/20 [30:22<07:33, 113.42s/it]"
          ],
          "name": "stderr"
        },
        {
          "output_type": "stream",
          "text": [
            "E15 loss=[128.49,138.08] acc=[54.80,51.18]\n"
          ],
          "name": "stdout"
        },
        {
          "output_type": "stream",
          "text": [
            "\r 85%|████████▌ | 17/20 [32:15<05:40, 113.36s/it]"
          ],
          "name": "stderr"
        },
        {
          "output_type": "stream",
          "text": [
            "E16 loss=[129.17,138.70] acc=[54.46,50.61]\n"
          ],
          "name": "stdout"
        },
        {
          "output_type": "stream",
          "text": [
            "\r 90%|█████████ | 18/20 [34:08<03:46, 113.35s/it]"
          ],
          "name": "stderr"
        },
        {
          "output_type": "stream",
          "text": [
            "E17 loss=[128.49,137.91] acc=[54.98,51.39]\n"
          ],
          "name": "stdout"
        },
        {
          "output_type": "stream",
          "text": [
            "\r 95%|█████████▌| 19/20 [36:00<01:52, 112.97s/it]"
          ],
          "name": "stderr"
        },
        {
          "output_type": "stream",
          "text": [
            "E18 loss=[129.45,139.06] acc=[54.61,50.66]\n"
          ],
          "name": "stdout"
        },
        {
          "output_type": "stream",
          "text": [
            "100%|██████████| 20/20 [37:54<00:00, 113.72s/it]"
          ],
          "name": "stderr"
        },
        {
          "output_type": "stream",
          "text": [
            "E19 loss=[128.61,138.29] acc=[55.13,51.26]\n"
          ],
          "name": "stdout"
        },
        {
          "output_type": "stream",
          "text": [
            "\n"
          ],
          "name": "stderr"
        }
      ]
    },
    {
      "cell_type": "code",
      "metadata": {
        "colab": {
          "base_uri": "https://localhost:8080/",
          "height": 265
        },
        "id": "4sZYISZbEcAP",
        "outputId": "48456976-f877-4b2a-d711-6758b76976eb"
      },
      "source": [
        "train_loss, test_loss = zip(*loss_hist)\n",
        "\n",
        "plt.plot(train_loss)\n",
        "plt.plot(test_loss)\n",
        "plt.legend(['Train Loss','Test Loss'])\n",
        "plt.grid()\n",
        "plt.show()"
      ],
      "execution_count": 40,
      "outputs": [
        {
          "output_type": "display_data",
          "data": {
            "image/png": "[encoded data removed]",
            "text/plain": [
              "<Figure size 432x288 with 1 Axes>"
            ]
          },
          "metadata": {
            "tags": [],
            "needs_background": "light"
          }
        }
      ]
    },
    {
      "cell_type": "markdown",
      "metadata": {
        "id": "kBsiOtECs9cM"
      },
      "source": [
        "Se observa que el modelo dos parece mantenerse en una banda de error entre 140 y 138. A diferencia del modelo 1 que disminuye de 180 a menos de 130, yo supongo que el error es mayor al princpio por el hechod de tener una capa extra de convolución."
      ]
    },
    {
      "cell_type": "code",
      "metadata": {
        "id": "8BtEX4RdGqzP"
      },
      "source": [
        ""
      ],
      "execution_count": null,
      "outputs": []
    }
  ]
}